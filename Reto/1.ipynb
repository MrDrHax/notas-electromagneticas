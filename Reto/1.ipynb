{
  "cells": [
    {
      "cell_type": "markdown",
      "metadata": {
        "id": "5Z366SkMXPOA"
      },
      "source": [
        "# Repaso rápido de vectores "
      ]
    },
    {
      "cell_type": "markdown",
      "metadata": {
        "id": "tLk5zMdLX9kH"
      },
      "source": [
        "Primero importamos las librerías que vamos a utilizar"
      ]
    },
    {
      "cell_type": "code",
      "execution_count": null,
      "metadata": {
        "id": "tLwwPU--YHI-"
      },
      "outputs": [],
      "source": [
        "import numpy as np\n",
        "import matplotlib.pyplot as plt"
      ]
    },
    {
      "cell_type": "markdown",
      "metadata": {
        "id": "lmEzPq6bYUAi"
      },
      "source": [
        "Definiremos primero los vectores renglón: \n",
        "$$ \\vec{x} = [1, 2, 3] \\tag{1}$$"
      ]
    },
    {
      "cell_type": "code",
      "execution_count": null,
      "metadata": {
        "colab": {
          "base_uri": "https://localhost:8080/"
        },
        "id": "iHZoCsbbY7rX",
        "outputId": "215a6598-b000-400a-ec41-74058feeda74"
      },
      "outputs": [
        {
          "name": "stdout",
          "output_type": "stream",
          "text": [
            "(3,)\n",
            "3.0\n"
          ]
        }
      ],
      "source": [
        "x = [1, 2, 3]  # lista\n",
        "y = [3.0, -1, 'a']\n",
        "\n",
        "x = np.array([3.0, 1, 2])\n",
        "\n",
        "print(x.shape)\n",
        "print(x[0])"
      ]
    },
    {
      "cell_type": "markdown",
      "metadata": {
        "id": "eH8_4wCzZepE"
      },
      "source": [
        "La forma de cualquier arreglo que utilicemos en matemáticas estará escrita con la siguiente convención: (N, M); donde N es el número de renglones y M es el número de columnas. Buscamos que el vector $\\vec{x}$ definido anteriormente tenga la forma (1, 3)."
      ]
    },
    {
      "cell_type": "code",
      "execution_count": null,
      "metadata": {
        "colab": {
          "base_uri": "https://localhost:8080/"
        },
        "id": "SueQnhIObgvj",
        "outputId": "9066a880-bff8-46d2-f710-59cd5aef17fb"
      },
      "outputs": [
        {
          "name": "stdout",
          "output_type": "stream",
          "text": [
            "(1, 3)\n",
            "3.0\n"
          ]
        }
      ],
      "source": [
        "x = np.array([[3.0, 1, 2]])\n",
        "\n",
        "print(x.shape)\n",
        "print(x[0, 0])"
      ]
    },
    {
      "cell_type": "code",
      "execution_count": null,
      "metadata": {
        "colab": {
          "base_uri": "https://localhost:8080/"
        },
        "id": "32PYvxuycBPP",
        "outputId": "731a71a2-310c-4bf3-f040-1b5351eb53f8"
      },
      "outputs": [
        {
          "name": "stdout",
          "output_type": "stream",
          "text": [
            "(3,)\n",
            "[3. 1. 2.]\n",
            "(1, 3)\n",
            "(3, 1)\n",
            "[[3.]\n",
            " [1.]\n",
            " [2.]]\n"
          ]
        }
      ],
      "source": [
        "x = np.array([3.0, 1, 2])\n",
        "\n",
        "print(x.shape)\n",
        "print(x.T)\n",
        "\n",
        "x = x.reshape(1, -1)\n",
        "\n",
        "print(x.shape)\n",
        "print(x.T.shape)\n",
        "print(x.T)"
      ]
    },
    {
      "cell_type": "markdown",
      "metadata": {
        "id": "zayFpZKYcjOv"
      },
      "source": [
        "Ahora definiremos los vectores columna: \n",
        "$$ \\vec{y} = \n",
        "\\begin{bmatrix} \n",
        "1 \\\\\n",
        "3 \\\\\n",
        "7 \\\\\n",
        "\\end{bmatrix}\n",
        "$$"
      ]
    },
    {
      "cell_type": "code",
      "execution_count": null,
      "metadata": {
        "colab": {
          "base_uri": "https://localhost:8080/"
        },
        "id": "bdBgmGU2eSmV",
        "outputId": "f5e26dab-be07-4adf-8262-d8b1f3cdc1e6"
      },
      "outputs": [
        {
          "data": {
            "text/plain": [
              "(3, 1)"
            ]
          },
          "execution_count": 44,
          "metadata": {
            "tags": []
          },
          "output_type": "execute_result"
        }
      ],
      "source": [
        "y = np.array([[1], \n",
        "              [3], \n",
        "              [7]])\n",
        "\n",
        "y.shape"
      ]
    },
    {
      "cell_type": "code",
      "execution_count": null,
      "metadata": {
        "colab": {
          "base_uri": "https://localhost:8080/"
        },
        "id": "pD6u8XmPecoW",
        "outputId": "4fea7526-ab0c-4045-a8d0-d557f364245b"
      },
      "outputs": [
        {
          "data": {
            "text/plain": [
              "array([[1, 3, 7]])"
            ]
          },
          "execution_count": 51,
          "metadata": {
            "tags": []
          },
          "output_type": "execute_result"
        }
      ],
      "source": [
        "y = np.array([1, 3, 7])\n",
        "\n",
        "y = y.reshape(-1, 1)\n",
        "\n",
        "y.T"
      ]
    },
    {
      "cell_type": "markdown",
      "metadata": {
        "id": "uwUmcBmpelyd"
      },
      "source": [
        "La transpuesta de un vector \n",
        "$$ \\vec{y} = \n",
        "\\begin{bmatrix} \n",
        "1 \\\\\n",
        "3 \\\\\n",
        "7 \\\\\n",
        "\\end{bmatrix}\n",
        "$$ \n",
        "está dada por: $$ \\vec{y}^T = [1, 3, 7] $$"
      ]
    },
    {
      "cell_type": "markdown",
      "metadata": {
        "id": "SQxr3GHzfQzo"
      },
      "source": [
        "El producto punto es un producto que toma dos vectores y da como resultado un número real y está definido de la siguiente manera: Para $$ \\vec{x} = [x_1, x_2, x_3] $$ y $$ \\vec{y} = [y_1, y_2, y_3] $$ dos vectores, tenemos que $$\\vec{x} \\cdot \\vec{y} = x_1 y_1 + x_2 y_2 + x_3 y_3. $$"
      ]
    },
    {
      "cell_type": "markdown",
      "metadata": {
        "id": "owBdjoZ1gUMD"
      },
      "source": [
        "Por ejemplo, si $$ \\vec{x} = [0, 3, 2] $$ y $$ \\vec{y} = [-5, 3, 7], $$ entonces $$ \\vec{x} \\cdot \\vec{y} = (0)(-5) + (3)(3) + (2)(7) = 23. $$\n"
      ]
    },
    {
      "cell_type": "code",
      "execution_count": null,
      "metadata": {
        "colab": {
          "base_uri": "https://localhost:8080/"
        },
        "id": "AOvpWifzg6Rj",
        "outputId": "afe09627-cd2e-46d1-ec66-f0b06ebf9f48"
      },
      "outputs": [
        {
          "data": {
            "text/plain": [
              "23"
            ]
          },
          "execution_count": 57,
          "metadata": {
            "tags": []
          },
          "output_type": "execute_result"
        }
      ],
      "source": [
        "x = np.array([0, 3, 2])\n",
        "y = np.array([-5, 3, 7])\n",
        "\n",
        "np.dot(x, y)"
      ]
    },
    {
      "cell_type": "markdown",
      "metadata": {
        "id": "HpBmATPTiGSw"
      },
      "source": [
        "El producto punto en realidad se hace entre un vector renglón (la primer entrada) y un vector columna (la segunda entrada), de tal forma que sucede lo siguiente: \n",
        "$$ \\vec{x} \\cdot \\vec{y} = [0, 3, 2] \\cdot \n",
        "\\begin{bmatrix} \n",
        "-5 \\\\\n",
        "3 \\\\\n",
        "7 \\\\\n",
        "\\end{bmatrix} = 23 $$"
      ]
    },
    {
      "cell_type": "code",
      "execution_count": null,
      "metadata": {
        "colab": {
          "base_uri": "https://localhost:8080/"
        },
        "id": "9hLOssglhP0y",
        "outputId": "a0545f24-0a36-465f-be8c-d389d742ca94"
      },
      "outputs": [
        {
          "data": {
            "text/plain": [
              "array([[23]])"
            ]
          },
          "execution_count": 60,
          "metadata": {
            "tags": []
          },
          "output_type": "execute_result"
        }
      ],
      "source": [
        "x = np.array([0, 3, 2]).reshape(1, -1)\n",
        "y = np.array([-5, 3, 7]).reshape(-1, 1)\n",
        "\n",
        "np.dot(x, y)"
      ]
    },
    {
      "cell_type": "code",
      "execution_count": null,
      "metadata": {
        "colab": {
          "base_uri": "https://localhost:8080/"
        },
        "id": "rF7cHJJWhyln",
        "outputId": "685262de-2757-445b-f24d-e11a02bc1064"
      },
      "outputs": [
        {
          "data": {
            "text/plain": [
              "array([[  0,   0,   0],\n",
              "       [-15,   9,  21],\n",
              "       [-10,   6,  14]])"
            ]
          },
          "execution_count": 73,
          "metadata": {
            "tags": []
          },
          "output_type": "execute_result"
        }
      ],
      "source": [
        "x = np.array([0, 3, 2]).reshape(-1, 1)\n",
        "y = np.array([-5, 3, 7]).reshape(1, -1)\n",
        "\n",
        "np.dot(x, y)  # El primero debe ser un vector renglón y el segundo un vector columna"
      ]
    },
    {
      "cell_type": "code",
      "execution_count": null,
      "metadata": {
        "colab": {
          "base_uri": "https://localhost:8080/",
          "height": 235
        },
        "id": "9zxY8pqhiuNn",
        "outputId": "cef408a2-c525-4872-92a8-c202e04a70f8"
      },
      "outputs": [
        {
          "ename": "ValueError",
          "evalue": "ignored",
          "output_type": "error",
          "traceback": [
            "\u001b[0;31m---------------------------------------------------------------------------\u001b[0m",
            "\u001b[0;31mValueError\u001b[0m                                Traceback (most recent call last)",
            "\u001b[0;32m<ipython-input-75-61c506ad6c5c>\u001b[0m in \u001b[0;36m<module>\u001b[0;34m()\u001b[0m\n\u001b[1;32m      2\u001b[0m \u001b[0my\u001b[0m \u001b[0;34m=\u001b[0m \u001b[0;34m[\u001b[0m\u001b[0;36m4\u001b[0m\u001b[0;34m,\u001b[0m \u001b[0;36m7\u001b[0m\u001b[0;34m,\u001b[0m \u001b[0;36m9\u001b[0m\u001b[0;34m,\u001b[0m \u001b[0;36m22\u001b[0m\u001b[0;34m]\u001b[0m\u001b[0;34m\u001b[0m\u001b[0;34m\u001b[0m\u001b[0m\n\u001b[1;32m      3\u001b[0m \u001b[0;34m\u001b[0m\u001b[0m\n\u001b[0;32m----> 4\u001b[0;31m \u001b[0mnp\u001b[0m\u001b[0;34m.\u001b[0m\u001b[0mdot\u001b[0m\u001b[0;34m(\u001b[0m\u001b[0mx\u001b[0m\u001b[0;34m,\u001b[0m \u001b[0my\u001b[0m\u001b[0;34m)\u001b[0m \u001b[0;31m# Deben tener las mismas dimensiones\u001b[0m\u001b[0;34m\u001b[0m\u001b[0;34m\u001b[0m\u001b[0m\n\u001b[0m",
            "\u001b[0;32m<__array_function__ internals>\u001b[0m in \u001b[0;36mdot\u001b[0;34m(*args, **kwargs)\u001b[0m\n",
            "\u001b[0;31mValueError\u001b[0m: shapes (3,) and (4,) not aligned: 3 (dim 0) != 4 (dim 0)"
          ]
        }
      ],
      "source": [
        "x = [3, 2, 1]\n",
        "y = [4, 7, 9, 22]\n",
        "\n",
        "np.dot(x, y) # Deben tener las mismas dimensiones"
      ]
    },
    {
      "cell_type": "markdown",
      "metadata": {
        "id": "EHv1dy01lEBK"
      },
      "source": [
        "Utilizando el producto punto, podemos encontrar la magnitud de un vector de la siguiente forma \n",
        "$$ |\\vec{x}|  = \\sqrt{\\vec{x} \\cdot \\vec{x}}. $$"
      ]
    },
    {
      "cell_type": "code",
      "execution_count": null,
      "metadata": {
        "id": "mw0NWrU3obBQ"
      },
      "outputs": [],
      "source": [
        "def magnitud(x):\n",
        "  \"\"\"Calcula la magnitud del vector x.\"\"\"\n",
        "  \"\"\"\n",
        "  Parámetros: \n",
        "  - x es un arreglo de numpy\n",
        "\n",
        "  Salidas:\n",
        "  - return un float\n",
        "  \"\"\"\n",
        "  return np.sqrt(np.dot(x, x))"
      ]
    },
    {
      "cell_type": "code",
      "execution_count": null,
      "metadata": {
        "id": "qsCU0sAdkmrX"
      },
      "outputs": [],
      "source": [
        "def plot_vector(v, w):\n",
        "    \"\"\"Plot two 2D vectors.\"\"\"\n",
        "    fig = plt.figure(figsize=(6, 6))\n",
        "    ax = fig.gca()\n",
        "    x_max = max(np.abs(v[0]), np.abs(w[0]))\n",
        "    y_max = max(np.abs(v[1]), np.abs(w[1]))\n",
        "    T_max = max(x_max, y_max)\n",
        "    plt.xlim([-T_max-1, T_max+1])  # Delimita el eje x\n",
        "    plt.ylim([-T_max-1, T_max+1])  # Delimita el eje y\n",
        "    plt.grid()\n",
        "    v_max = max(np.abs(v[0]), np.abs(v[1]))\n",
        "    w_max = max(np.abs(w[0]), np.abs(w[1]))\n",
        "    vec_max = max(v_max, w_max)\n",
        "    ax.arrow(0, 0, v[0], v[1], head_width=0.05*vec_max, head_length=0.05*vec_max, \n",
        "             length_includes_head=True, linewidth=2, color='g');\n",
        "    ax.arrow(0, 0, w[0], w[1], head_width=0.05*vec_max, head_length=0.05*vec_max, \n",
        "             length_includes_head=True, linewidth=2, color='r');\n",
        "    print('El producto punto entre los dos vectores es: ' + str(np.dot(v, w)) + '\\n' \n",
        "    + 'La magnitud del primer vector es: ' + str(magnitud(v).round(3)) + '\\n'\n",
        "    + 'La magnitud del segundo vector es: ' + str(np.linalg.norm(w).round(3)))"
      ]
    },
    {
      "cell_type": "code",
      "execution_count": null,
      "metadata": {
        "colab": {
          "base_uri": "https://localhost:8080/",
          "height": 425
        },
        "id": "E06uApOYk8Ub",
        "outputId": "2d9befad-a94f-45e0-db0b-34c5bb1e25ac"
      },
      "outputs": [
        {
          "name": "stdout",
          "output_type": "stream",
          "text": [
            "El producto punto entre los dos vectores es: -120\n",
            "La magnitud del primer vector es: 33.541\n",
            "La magnitud del segundo vector es: 5.385\n"
          ]
        },
        {
          "data": {
            "image/png": "[encoded data removed]",
            "text/plain": [
              "<Figure size 432x432 with 1 Axes>"
            ]
          },
          "metadata": {
            "needs_background": "light",
            "tags": []
          },
          "output_type": "display_data"
        }
      ],
      "source": [
        "a = [-30, 15]\n",
        "b = [5, 2]\n",
        "plot_vector(a, b)"
      ]
    },
    {
      "cell_type": "markdown",
      "metadata": {
        "id": "l0LPjwtkpDYc"
      },
      "source": [
        "Ejercicio: agregara la función que imprima la distancia entre los puntos donde tocan las dos flechitas."
      ]
    }
  ],
  "metadata": {
    "colab": {
      "name": "F1013B.ipynb",
      "provenance": []
    },
    "kernelspec": {
      "display_name": "Python 3",
      "language": "python",
      "name": "python3"
    },
    "language_info": {
      "name": "python",
      "version": ""
    }
  },
  "nbformat": 4,
  "nbformat_minor": 0
}